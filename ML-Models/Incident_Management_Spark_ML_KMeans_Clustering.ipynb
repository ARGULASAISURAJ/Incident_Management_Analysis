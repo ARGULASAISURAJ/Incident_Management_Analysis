{
 "cells": [
  {
   "cell_type": "markdown",
   "metadata": {},
   "source": [
    "# K Means to cluster the incidents into 4 groups (Priority levels)"
   ]
  },
  {
   "cell_type": "markdown",
   "metadata": {},
   "source": [
    "The Incident Management dataset has about 141712 records of 24918 incidents. Each state of the incident is being captured as an individual record with few exceptions where the closed state of an incident is recorded more than once. With the help of the below segment of the code, we load and clean the Incident Management data so that only one record representing the truly closed state per incident is obtained."
   ]
  },
  {
   "cell_type": "markdown",
   "metadata": {},
   "source": [
    "------------------------------------------------------------------------------------------------------------------------------"
   ]
  },
  {
   "cell_type": "markdown",
   "metadata": {},
   "source": [
    "##### Create a spark session and load the Incident Management Data set"
   ]
  },
  {
   "cell_type": "code",
   "execution_count": 1,
   "metadata": {},
   "outputs": [],
   "source": [
    "from pyspark.sql import SparkSession"
   ]
  },
  {
   "cell_type": "code",
   "execution_count": 2,
   "metadata": {},
   "outputs": [],
   "source": [
    "spark = SparkSession.builder.appName('IMMLKM2').getOrCreate()"
   ]
  },
  {
   "cell_type": "code",
   "execution_count": 3,
   "metadata": {},
   "outputs": [],
   "source": [
    "df = spark.read.csv('incident_event_log.csv',inferSchema=True,header=True)"
   ]
  },
  {
   "cell_type": "markdown",
   "metadata": {},
   "source": [
    "------------------------------------------------------------------------------------------------------------------------------"
   ]
  },
  {
   "cell_type": "markdown",
   "metadata": {},
   "source": [
    "##### Data pre-processing"
   ]
  },
  {
   "cell_type": "code",
   "execution_count": 4,
   "metadata": {},
   "outputs": [],
   "source": [
    "# The data set has multiple states(New, Active, Awaiting user info, Resolved, Closed etc. ) of an incident. With the help \n",
    "# of the below command, we are just filtering one record per incident, that has the truly closed state of the incident. \n",
    "\n",
    "df_unique_incidents=df.filter(\"incident_state=='Closed'\").sort(\"sys_mod_count\",ascending=False).dropDuplicates([\"number\"])"
   ]
  },
  {
   "cell_type": "code",
   "execution_count": 5,
   "metadata": {},
   "outputs": [],
   "source": [
    "# Selecting the dependent and the independent variables that are identified as most useful attributes to make predictions\n",
    "\n",
    "data=df_unique_incidents.select(['opened_by','location','category','subcategory',\n",
    "                                 'u_symptom','assignment_group','priority'])"
   ]
  },
  {
   "cell_type": "code",
   "execution_count": 6,
   "metadata": {},
   "outputs": [],
   "source": [
    "data=data.dropna()"
   ]
  },
  {
   "cell_type": "markdown",
   "metadata": {},
   "source": [
    "------------------------------------------------------------------------------------------------------------------------------"
   ]
  },
  {
   "cell_type": "markdown",
   "metadata": {},
   "source": [
    "### Building the K Means model"
   ]
  },
  {
   "cell_type": "code",
   "execution_count": 7,
   "metadata": {},
   "outputs": [],
   "source": [
    "# Import the required libraries\n",
    "\n",
    "from pyspark.ml.clustering import KMeans\n",
    "from pyspark.ml.feature import VectorAssembler,StringIndexer\n",
    "from pyspark.ml import Pipeline"
   ]
  },
  {
   "cell_type": "code",
   "execution_count": 8,
   "metadata": {},
   "outputs": [],
   "source": [
    "# Use StringIndexer to convert the categorical columns to hold numerical data\n",
    "\n",
    "opened_by_indexer = StringIndexer(inputCol='opened_by',outputCol='opened_by_index',handleInvalid='keep')\n",
    "location_indexer = StringIndexer(inputCol='location',outputCol='location_index',handleInvalid='keep')\n",
    "category_indexer = StringIndexer(inputCol='category',outputCol='category_index',handleInvalid='keep')\n",
    "subcategory_indexer = StringIndexer(inputCol='subcategory',outputCol='subcategory_index',handleInvalid='keep')\n",
    "u_symptom_indexer = StringIndexer(inputCol='u_symptom',outputCol='u_symptom_index',handleInvalid='keep')\n",
    "assignment_group_indexer = StringIndexer(inputCol='assignment_group',outputCol='assignment_group_index',handleInvalid='keep')\n",
    "priority_indexer = StringIndexer(inputCol='priority',outputCol='priority_index',handleInvalid='keep')"
   ]
  },
  {
   "cell_type": "code",
   "execution_count": 9,
   "metadata": {},
   "outputs": [],
   "source": [
    "# Vector assembler is used to create a vector of input features\n",
    "\n",
    "assembler = VectorAssembler(inputCols=['opened_by_index','location_index','category_index',\n",
    "                                       'subcategory_index','u_symptom_index','assignment_group_index'],\n",
    "                            outputCol=\"features\")"
   ]
  },
  {
   "cell_type": "code",
   "execution_count": 10,
   "metadata": {},
   "outputs": [],
   "source": [
    "# Pipeline is used to pass the data through indexer and assembler simultaneously. Also, it helps to pre-rocess the test data\n",
    "# in the same way as that of the train data.\n",
    "\n",
    "pipe = Pipeline(stages=[opened_by_indexer,location_indexer,category_indexer,subcategory_indexer,\n",
    "                        u_symptom_indexer,assignment_group_indexer,priority_indexer,assembler])"
   ]
  },
  {
   "cell_type": "code",
   "execution_count": 11,
   "metadata": {},
   "outputs": [],
   "source": [
    "# It took 5 minutes for this step to complete execution\n",
    "\n",
    "final_data=pipe.fit(data).transform(data)"
   ]
  },
  {
   "cell_type": "code",
   "execution_count": 12,
   "metadata": {},
   "outputs": [],
   "source": [
    "# Create an object for the Logistic Regression model\n",
    "\n",
    "kmeans_model = KMeans(k=4)"
   ]
  },
  {
   "cell_type": "code",
   "execution_count": 13,
   "metadata": {},
   "outputs": [],
   "source": [
    "fit_model = kmeans_model.fit(final_data)"
   ]
  },
  {
   "cell_type": "code",
   "execution_count": 14,
   "metadata": {},
   "outputs": [
    {
     "name": "stdout",
     "output_type": "stream",
     "text": [
      "The within set sum of squared error of the mode is 37759716.044208884\n"
     ]
    }
   ],
   "source": [
    "wssse = fit_model.computeCost(final_data)\n",
    "print(\"The within set sum of squared error of the mode is {}\".format(wssse))"
   ]
  },
  {
   "cell_type": "code",
   "execution_count": 15,
   "metadata": {},
   "outputs": [],
   "source": [
    "centers = fit_model.clusterCenters()"
   ]
  },
  {
   "cell_type": "code",
   "execution_count": 16,
   "metadata": {},
   "outputs": [
    {
     "name": "stdout",
     "output_type": "stream",
     "text": [
      "Cluster Centers\n",
      "Centroid 1: [9.88831181 9.16459567 5.29759247 5.9773323  4.14687894 6.00058247]\n",
      "Centroid 2: [ 23.28323699  11.81310212  10.38150289  71.05009634 238.61464355\n",
      "  17.89017341]\n",
      "Centroid 3: [18.04699248 10.39520677 11.2612782  82.88909774  8.93609023 13.58317669]\n",
      "Centroid 4: [13.18154584 10.6003595   7.63151588 34.09646495 87.1312163  14.5817855 ]\n"
     ]
    }
   ],
   "source": [
    "print(\"Cluster Centers\")\n",
    "index=1\n",
    "for cluster in centers:\n",
    "    print(\"Centroid {}: {}\".format(index,cluster))\n",
    "    index+=1"
   ]
  },
  {
   "cell_type": "code",
   "execution_count": 17,
   "metadata": {},
   "outputs": [],
   "source": [
    "# Store the results in a dataframe\n",
    "\n",
    "results = fit_model.transform(final_data)"
   ]
  },
  {
   "cell_type": "code",
   "execution_count": 18,
   "metadata": {},
   "outputs": [
    {
     "name": "stdout",
     "output_type": "stream",
     "text": [
      "+---------------+--------------+--------------+-----------------+---------------+----------------------+----------+\n",
      "|opened_by_index|location_index|category_index|subcategory_index|u_symptom_index|assignment_group_index|prediction|\n",
      "+---------------+--------------+--------------+-----------------+---------------+----------------------+----------+\n",
      "|           14.0|           4.0|           4.0|              4.0|            1.0|                   0.0|         0|\n",
      "|            9.0|           4.0|           1.0|              2.0|            1.0|                   0.0|         0|\n",
      "|            2.0|           0.0|          10.0|              3.0|           41.0|                   7.0|         0|\n",
      "|            3.0|           5.0|           8.0|             11.0|            1.0|                  11.0|         0|\n",
      "|           29.0|          22.0|          10.0|              3.0|           12.0|                   7.0|         0|\n",
      "|           17.0|          18.0|           5.0|              3.0|            1.0|                  18.0|         0|\n",
      "|           29.0|           2.0|           2.0|             58.0|           24.0|                  14.0|         2|\n",
      "|           17.0|           1.0|           7.0|             14.0|            1.0|                  46.0|         0|\n",
      "|           13.0|          16.0|           5.0|              3.0|          171.0|                  12.0|         3|\n",
      "|            6.0|           0.0|           1.0|              2.0|            1.0|                   0.0|         0|\n",
      "|           10.0|           1.0|          22.0|             32.0|            4.0|                   4.0|         0|\n",
      "|           13.0|           0.0|           3.0|             40.0|           55.0|                  19.0|         3|\n",
      "|            9.0|           0.0|           3.0|              0.0|            1.0|                   0.0|         0|\n",
      "|            0.0|           0.0|           6.0|              6.0|           19.0|                   1.0|         0|\n",
      "|            0.0|          29.0|          18.0|              0.0|            1.0|                  30.0|         0|\n",
      "|            0.0|           9.0|           4.0|              0.0|            0.0|                   1.0|         0|\n",
      "|           16.0|           5.0|          24.0|             75.0|           44.0|                  36.0|         2|\n",
      "|           16.0|           0.0|           3.0|              1.0|           27.0|                   3.0|         0|\n",
      "|            6.0|           0.0|           1.0|              5.0|           20.0|                   1.0|         0|\n",
      "|           15.0|           2.0|           1.0|              2.0|           29.0|                   0.0|         0|\n",
      "+---------------+--------------+--------------+-----------------+---------------+----------------------+----------+\n",
      "only showing top 20 rows\n",
      "\n"
     ]
    }
   ],
   "source": [
    "results.select(['opened_by_index','location_index','category_index','subcategory_index',\n",
    "                'u_symptom_index','assignment_group_index','prediction']).show()"
   ]
  },
  {
   "cell_type": "code",
   "execution_count": 19,
   "metadata": {},
   "outputs": [
    {
     "name": "stdout",
     "output_type": "stream",
     "text": [
      "+----------+-----+\n",
      "|prediction|count|\n",
      "+----------+-----+\n",
      "|         0|20602|\n",
      "|         1|  519|\n",
      "|         2| 2128|\n",
      "|         3| 1669|\n",
      "+----------+-----+\n",
      "\n"
     ]
    }
   ],
   "source": [
    "results.groupby('prediction').count().sort('prediction').show()"
   ]
  },
  {
   "cell_type": "markdown",
   "metadata": {},
   "source": [
    "-------------------------------------------------------------------------------------------------------------------------------"
   ]
  },
  {
   "cell_type": "code",
   "execution_count": null,
   "metadata": {},
   "outputs": [],
   "source": []
  }
 ],
 "metadata": {
  "kernelspec": {
   "display_name": "Python 3",
   "language": "python",
   "name": "python3"
  },
  "language_info": {
   "codemirror_mode": {
    "name": "ipython",
    "version": 3
   },
   "file_extension": ".py",
   "mimetype": "text/x-python",
   "name": "python",
   "nbconvert_exporter": "python",
   "pygments_lexer": "ipython3",
   "version": "3.7.2"
  }
 },
 "nbformat": 4,
 "nbformat_minor": 2
}
