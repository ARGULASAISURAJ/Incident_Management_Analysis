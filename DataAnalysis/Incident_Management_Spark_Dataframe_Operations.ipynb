{
 "cells": [
  {
   "cell_type": "code",
   "execution_count": 1,
   "metadata": {},
   "outputs": [],
   "source": [
    "from pyspark.sql import SparkSession"
   ]
  },
  {
   "cell_type": "code",
   "execution_count": 2,
   "metadata": {},
   "outputs": [],
   "source": [
    "spark = SparkSession.builder.appName('IMDF').getOrCreate()"
   ]
  },
  {
   "cell_type": "code",
   "execution_count": 3,
   "metadata": {},
   "outputs": [],
   "source": [
    "df = spark.read.csv('incident_event_log.csv',inferSchema=True,header=True)"
   ]
  },
  {
   "cell_type": "code",
   "execution_count": 4,
   "metadata": {},
   "outputs": [
    {
     "name": "stdout",
     "output_type": "stream",
     "text": [
      "root\n",
      " |-- number: string (nullable = true)\n",
      " |-- incident_state: string (nullable = true)\n",
      " |-- active: boolean (nullable = true)\n",
      " |-- reassignment_count: integer (nullable = true)\n",
      " |-- reopen_count: integer (nullable = true)\n",
      " |-- sys_mod_count: integer (nullable = true)\n",
      " |-- made_sla: boolean (nullable = true)\n",
      " |-- caller_id: string (nullable = true)\n",
      " |-- opened_by: string (nullable = true)\n",
      " |-- opened_at: string (nullable = true)\n",
      " |-- sys_created_by: string (nullable = true)\n",
      " |-- sys_created_at: string (nullable = true)\n",
      " |-- sys_updated_by: string (nullable = true)\n",
      " |-- sys_updated_at: string (nullable = true)\n",
      " |-- contact_type: string (nullable = true)\n",
      " |-- location: string (nullable = true)\n",
      " |-- category: string (nullable = true)\n",
      " |-- subcategory: string (nullable = true)\n",
      " |-- u_symptom: string (nullable = true)\n",
      " |-- cmdb_ci: string (nullable = true)\n",
      " |-- impact: string (nullable = true)\n",
      " |-- urgency: string (nullable = true)\n",
      " |-- priority: string (nullable = true)\n",
      " |-- assignment_group: string (nullable = true)\n",
      " |-- assigned_to: string (nullable = true)\n",
      " |-- knowledge: boolean (nullable = true)\n",
      " |-- u_priority_confirmation: boolean (nullable = true)\n",
      " |-- notify: string (nullable = true)\n",
      " |-- problem_id: string (nullable = true)\n",
      " |-- rfc: string (nullable = true)\n",
      " |-- vendor: string (nullable = true)\n",
      " |-- caused_by: string (nullable = true)\n",
      " |-- closed_code: string (nullable = true)\n",
      " |-- resolved_by: string (nullable = true)\n",
      " |-- resolved_at: string (nullable = true)\n",
      " |-- closed_at: string (nullable = true)\n",
      "\n"
     ]
    }
   ],
   "source": [
    "df.printSchema()"
   ]
  },
  {
   "cell_type": "code",
   "execution_count": 5,
   "metadata": {},
   "outputs": [],
   "source": [
    "from pyspark.sql.functions import datediff,date_format,to_date,to_timestamp"
   ]
  },
  {
   "cell_type": "code",
   "execution_count": 6,
   "metadata": {},
   "outputs": [],
   "source": [
    "df=df.withColumn('resolved_ts',to_timestamp(df.resolved_at, 'dd/MM/yyyy HH:mm')).\\\n",
    "                withColumn('opened_ts',to_timestamp(df.opened_at, 'dd/MM/yyyy HH:mm')).\\\n",
    "                withColumn('sys_created_ts',to_timestamp(df.sys_created_at, 'dd/MM/yyyy HH:mm')).\\\n",
    "                withColumn('sys_updated_ts',to_timestamp(df.sys_updated_at, 'dd/MM/yyyy HH:mm')).\\\n",
    "                withColumn('closed_ts',to_timestamp(df.closed_at, 'dd/MM/yyyy HH:mm')).\\\n",
    "                withColumn('resolved',to_date(df.resolved_at, 'dd/MM/yyyy HH:mm')).\\\n",
    "                withColumn('opened',to_date(df.opened_at, 'dd/MM/yyyy HH:mm')).\\\n",
    "                withColumn('sys_created',to_date(df.sys_created_at, 'dd/MM/yyyy HH:mm')).\\\n",
    "                withColumn('sys_updated',to_date(df.sys_updated_at, 'dd/MM/yyyy HH:mm')).\\\n",
    "                withColumn('closed',to_date(df.closed_at, 'dd/MM/yyyy HH:mm')).\\\n",
    "                withColumn('duration',datediff(to_date(df.resolved_at, 'dd/MM/yyyy HH:mm'),to_date(df.opened_at, 'dd/MM/yyyy HH:mm')))"
   ]
  },
  {
   "cell_type": "code",
   "execution_count": 7,
   "metadata": {},
   "outputs": [],
   "source": [
    "df_unique_incidents=df.filter(\"incident_state=='Closed'\").sort(\"sys_mod_count\",ascending=False).dropDuplicates([\"number\"])"
   ]
  },
  {
   "cell_type": "markdown",
   "metadata": {},
   "source": [
    "#### 1. Top 5 people with most resolved incidents"
   ]
  },
  {
   "cell_type": "code",
   "execution_count": 8,
   "metadata": {},
   "outputs": [],
   "source": [
    "A1=df_unique_incidents.groupby(\"resolved_by\").count().sort(\"count\",ascending=False)"
   ]
  },
  {
   "cell_type": "code",
   "execution_count": 9,
   "metadata": {},
   "outputs": [
    {
     "name": "stdout",
     "output_type": "stream",
     "text": [
      "+---------------+-----+\n",
      "|    resolved_by|count|\n",
      "+---------------+-----+\n",
      "| Resolved by 11| 3071|\n",
      "| Resolved by 15| 2415|\n",
      "|Resolved by 103|  689|\n",
      "|Resolved by 177|  686|\n",
      "| Resolved by 32|  597|\n",
      "+---------------+-----+\n",
      "only showing top 5 rows\n",
      "\n"
     ]
    }
   ],
   "source": [
    "A1.show(n=5)"
   ]
  },
  {
   "cell_type": "markdown",
   "metadata": {},
   "source": [
    "#### 2. Based on least average duration, find the top 5 people with maxmium number of incidents resolved"
   ]
  },
  {
   "cell_type": "code",
   "execution_count": 10,
   "metadata": {},
   "outputs": [],
   "source": [
    "from pyspark.sql import functions as F"
   ]
  },
  {
   "cell_type": "code",
   "execution_count": 11,
   "metadata": {},
   "outputs": [],
   "source": [
    "A2= df_unique_incidents.groupby(\"resolved_by\").agg(F.count(\"duration\"),F.mean(\"duration\")).\\\n",
    "    withColumnRenamed(\"count(duration)\",\"Incidents Resolved\").\\\n",
    "    withColumnRenamed(\"avg(duration)\",\"Average Duration\").\\\n",
    "    orderBy([\"Average Duration\",\"Incidents Resolved\"],ascending=[True,False])"
   ]
  },
  {
   "cell_type": "code",
   "execution_count": 12,
   "metadata": {},
   "outputs": [
    {
     "name": "stdout",
     "output_type": "stream",
     "text": [
      "+---------------+------------------+----------------+\n",
      "|    resolved_by|Incidents Resolved|Average Duration|\n",
      "+---------------+------------------+----------------+\n",
      "| Resolved by 10|                 4|             0.0|\n",
      "| Resolved by 94|                 4|             0.0|\n",
      "| Resolved by 26|                 2|             0.0|\n",
      "|Resolved by 145|                 2|             0.0|\n",
      "| Resolved by 39|                 1|             0.0|\n",
      "+---------------+------------------+----------------+\n",
      "only showing top 5 rows\n",
      "\n"
     ]
    }
   ],
   "source": [
    "A2.show(n=5)"
   ]
  },
  {
   "cell_type": "markdown",
   "metadata": {},
   "source": [
    "#### 3. People with maximum number of high impact incidents resolved"
   ]
  },
  {
   "cell_type": "code",
   "execution_count": 13,
   "metadata": {},
   "outputs": [],
   "source": [
    "A3= df_unique_incidents.select([\"resolved_by\",\"impact\",\"duration\"]).\\\n",
    "    groupby([\"impact\",\"resolved_by\"]).count().\\\n",
    "    sort([\"impact\",\"count\"],ascending=[True,False])"
   ]
  },
  {
   "cell_type": "code",
   "execution_count": 14,
   "metadata": {},
   "outputs": [
    {
     "name": "stdout",
     "output_type": "stream",
     "text": [
      "+--------+---------------+-----+\n",
      "|  impact|    resolved_by|count|\n",
      "+--------+---------------+-----+\n",
      "|1 - High| Resolved by 98|   20|\n",
      "|1 - High|Resolved by 137|   17|\n",
      "|1 - High| Resolved by 11|   15|\n",
      "|1 - High|Resolved by 165|   13|\n",
      "|1 - High|Resolved by 111|   12|\n",
      "|1 - High|  Resolved by 6|   12|\n",
      "|1 - High|Resolved by 223|   10|\n",
      "|1 - High|Resolved by 139|    9|\n",
      "|1 - High|Resolved by 150|    9|\n",
      "|1 - High| Resolved by 91|    9|\n",
      "+--------+---------------+-----+\n",
      "only showing top 10 rows\n",
      "\n"
     ]
    }
   ],
   "source": [
    "A3.show(n=10)"
   ]
  },
  {
   "cell_type": "markdown",
   "metadata": {},
   "source": [
    "#### 4a. In each impact levels, find the person with most number of incidents resolved"
   ]
  },
  {
   "cell_type": "code",
   "execution_count": 15,
   "metadata": {},
   "outputs": [],
   "source": [
    "A4a=df_unique_incidents.select([\"resolved_by\",\"impact\",\"duration\"]).\\\n",
    "    groupby([\"impact\",\"resolved_by\"]).count().\\\n",
    "    sort([\"impact\",\"count\"],ascending=[True,False]).\\\n",
    "    dropDuplicates([\"impact\"])"
   ]
  },
  {
   "cell_type": "code",
   "execution_count": 16,
   "metadata": {},
   "outputs": [
    {
     "name": "stdout",
     "output_type": "stream",
     "text": [
      "+----------+--------------+-----+\n",
      "|    impact|   resolved_by|count|\n",
      "+----------+--------------+-----+\n",
      "|  1 - High|Resolved by 98|   20|\n",
      "|2 - Medium|Resolved by 11| 3045|\n",
      "|   3 - Low|Resolved by 66|  194|\n",
      "+----------+--------------+-----+\n",
      "\n"
     ]
    }
   ],
   "source": [
    "A4a.show()"
   ]
  },
  {
   "cell_type": "markdown",
   "metadata": {},
   "source": [
    "#### 4b. In each urgency levels, find the person with most number of incidents resolved"
   ]
  },
  {
   "cell_type": "code",
   "execution_count": 17,
   "metadata": {},
   "outputs": [],
   "source": [
    "A4b=df_unique_incidents.select([\"resolved_by\",\"urgency\",\"duration\"]).\\\n",
    "    groupby([\"urgency\",\"resolved_by\"]).count().\\\n",
    "    sort([\"urgency\",\"count\"],ascending=[True,False]).dropDuplicates([\"urgency\"])"
   ]
  },
  {
   "cell_type": "code",
   "execution_count": 18,
   "metadata": {},
   "outputs": [
    {
     "name": "stdout",
     "output_type": "stream",
     "text": [
      "+----------+---------------+-----+\n",
      "|   urgency|    resolved_by|count|\n",
      "+----------+---------------+-----+\n",
      "|  1 - High|Resolved by 166|   38|\n",
      "|2 - Medium| Resolved by 11| 3047|\n",
      "|   3 - Low| Resolved by 66|  195|\n",
      "+----------+---------------+-----+\n",
      "\n"
     ]
    }
   ],
   "source": [
    "A4b.show()"
   ]
  },
  {
   "cell_type": "markdown",
   "metadata": {},
   "source": [
    "#### 4c. In each priority levels, find the person with most number of incidents resolved"
   ]
  },
  {
   "cell_type": "code",
   "execution_count": 19,
   "metadata": {},
   "outputs": [],
   "source": [
    "A4c=df_unique_incidents.select([\"resolved_by\",\"priority\",\"duration\"]).\\\n",
    "    groupby([\"priority\",\"resolved_by\"]).count().\\\n",
    "    sort([\"priority\",\"count\"],ascending=[True,False]).dropDuplicates([\"priority\"])"
   ]
  },
  {
   "cell_type": "code",
   "execution_count": 20,
   "metadata": {},
   "outputs": [
    {
     "name": "stdout",
     "output_type": "stream",
     "text": [
      "+------------+---------------+-----+\n",
      "|    priority|    resolved_by|count|\n",
      "+------------+---------------+-----+\n",
      "|1 - Critical| Resolved by 98|   16|\n",
      "|3 - Moderate| Resolved by 11| 3040|\n",
      "|     4 - Low| Resolved by 66|  195|\n",
      "|    2 - High|Resolved by 166|   40|\n",
      "+------------+---------------+-----+\n",
      "\n"
     ]
    }
   ],
   "source": [
    "A4c.show()"
   ]
  },
  {
   "cell_type": "markdown",
   "metadata": {},
   "source": [
    "#### 5. Find each contact type as a percentage of total incidents"
   ]
  },
  {
   "cell_type": "code",
   "execution_count": 21,
   "metadata": {},
   "outputs": [],
   "source": [
    "from pyspark.sql.window import Window"
   ]
  },
  {
   "cell_type": "code",
   "execution_count": 22,
   "metadata": {},
   "outputs": [],
   "source": [
    "A5= df_unique_incidents.select([\"contact_type\"]).\\\n",
    "    groupby([\"contact_type\"]).count().\\\n",
    "    withColumn(\"percentage\",F.round(F.col(\"count\")*100/F.sum(\"count\").over(Window.partitionBy()),2))"
   ]
  },
  {
   "cell_type": "code",
   "execution_count": 23,
   "metadata": {},
   "outputs": [
    {
     "name": "stdout",
     "output_type": "stream",
     "text": [
      "+--------------+-----+----------+\n",
      "|  contact_type|count|percentage|\n",
      "+--------------+-----+----------+\n",
      "|         Phone|24688|     99.08|\n",
      "|         Email|   59|      0.24|\n",
      "|  Self service|  158|      0.63|\n",
      "|           IVR|    9|      0.04|\n",
      "|Direct opening|    4|      0.02|\n",
      "+--------------+-----+----------+\n",
      "\n"
     ]
    }
   ],
   "source": [
    "A5.show()"
   ]
  },
  {
   "cell_type": "markdown",
   "metadata": {},
   "source": [
    "#### 6. On each priority level, find the percentage of incidents which made SLA and which did not."
   ]
  },
  {
   "cell_type": "code",
   "execution_count": 24,
   "metadata": {},
   "outputs": [],
   "source": [
    "A6= df_unique_incidents.select([\"priority\",\"made_sla\"]).\\\n",
    "    groupby([\"priority\",\"made_sla\"]).count().\\\n",
    "    withColumnRenamed(\"count\",\"Population\").\\\n",
    "    withColumn(\"Made SLA %\",F.round(F.col(\"Population\")*100/F.sum(\"Population\").over(Window.partitionBy(\"priority\")),2)).\\\n",
    "    sort([\"priority\",\"made_sla\"],ascending=[True,False])"
   ]
  },
  {
   "cell_type": "code",
   "execution_count": 25,
   "metadata": {},
   "outputs": [
    {
     "name": "stdout",
     "output_type": "stream",
     "text": [
      "+------------+--------+----------+----------+\n",
      "|    priority|made_sla|Population|Made SLA %|\n",
      "+------------+--------+----------+----------+\n",
      "|1 - Critical|    true|         5|      1.85|\n",
      "|1 - Critical|   false|       265|     98.15|\n",
      "|    2 - High|    true|         2|      0.49|\n",
      "|    2 - High|   false|       406|     99.51|\n",
      "|3 - Moderate|    true|     15145|     64.54|\n",
      "|3 - Moderate|   false|      8321|     35.46|\n",
      "|     4 - Low|    true|       651|     84.11|\n",
      "|     4 - Low|   false|       123|     15.89|\n",
      "+------------+--------+----------+----------+\n",
      "\n"
     ]
    }
   ],
   "source": [
    "A6.show()"
   ]
  },
  {
   "cell_type": "markdown",
   "metadata": {},
   "source": [
    "#### 7. Top 5 location with the maximum number of incidents reported"
   ]
  },
  {
   "cell_type": "code",
   "execution_count": 26,
   "metadata": {},
   "outputs": [],
   "source": [
    "A7= df_unique_incidents.groupby([\"location\"]).agg({\"number\":\"count\"}).\\\n",
    "    withColumnRenamed(\"count(number)\",\"Incidents Reported\").sort([\"Incidents Reported\"],ascending=False)"
   ]
  },
  {
   "cell_type": "code",
   "execution_count": 27,
   "metadata": {},
   "outputs": [
    {
     "name": "stdout",
     "output_type": "stream",
     "text": [
      "+------------+------------------+\n",
      "|    location|Incidents Reported|\n",
      "+------------+------------------+\n",
      "|Location 204|              5554|\n",
      "|Location 161|              4002|\n",
      "|Location 143|              3276|\n",
      "|Location 108|              2140|\n",
      "| Location 93|              1934|\n",
      "+------------+------------------+\n",
      "only showing top 5 rows\n",
      "\n"
     ]
    }
   ],
   "source": [
    "A7.show(5)"
   ]
  },
  {
   "cell_type": "markdown",
   "metadata": {},
   "source": [
    "#### 8. Which category of issues missed meeting the SLA the most?"
   ]
  },
  {
   "cell_type": "code",
   "execution_count": 28,
   "metadata": {},
   "outputs": [],
   "source": [
    "A8= df_unique_incidents.filter(\"made_sla==false\").groupby([\"category\"]).\\\n",
    "    agg({\"made_sla\":\"count\"}).withColumnRenamed(\"count(made_sla)\",\"Incidents failed to make SLA\").\\\n",
    "    sort([\"Incidents failed to make SLA\"],ascending=False)"
   ]
  },
  {
   "cell_type": "code",
   "execution_count": 29,
   "metadata": {},
   "outputs": [
    {
     "name": "stdout",
     "output_type": "stream",
     "text": [
      "+-----------+----------------------------+\n",
      "|   category|Incidents failed to make SLA|\n",
      "+-----------+----------------------------+\n",
      "|Category 46|                        1254|\n",
      "|Category 26|                        1017|\n",
      "|Category 53|                        1009|\n",
      "|Category 42|                         689|\n",
      "|Category 23|                         505|\n",
      "+-----------+----------------------------+\n",
      "only showing top 5 rows\n",
      "\n"
     ]
    }
   ],
   "source": [
    "A8.show(5)"
   ]
  },
  {
   "cell_type": "code",
   "execution_count": null,
   "metadata": {},
   "outputs": [],
   "source": []
  }
 ],
 "metadata": {
  "kernelspec": {
   "display_name": "Python 3",
   "language": "python",
   "name": "python3"
  },
  "language_info": {
   "codemirror_mode": {
    "name": "ipython",
    "version": 3
   },
   "file_extension": ".py",
   "mimetype": "text/x-python",
   "name": "python",
   "nbconvert_exporter": "python",
   "pygments_lexer": "ipython3",
   "version": "3.6.5"
  }
 },
 "nbformat": 4,
 "nbformat_minor": 2
}
